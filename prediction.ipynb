{
 "cells": [
  {
   "cell_type": "code",
   "execution_count": 2,
   "metadata": {},
   "outputs": [
    {
     "name": "stdout",
     "output_type": "stream",
     "text": [
      "\n",
      "Train Preditcions prediction accuracy: 0.9971804511278195\n",
      "Train Preditcions precision score: 0.9959919839679359\n",
      "Train Preditcions recall score: 0.9920159680638723\n",
      "Train Preditcions F1 score: 0.994\n",
      "Train Preditcions confusion matrix:\n",
      "[[1625    2]\n",
      " [   4  497]]\n",
      "\n",
      "Test Preditcions prediction accuracy: 0.9114285714285715\n",
      "Test Preditcions precision score: 0.690176322418136\n",
      "Test Preditcions recall score: 0.7445652173913043\n",
      "Test Preditcions F1 score: 0.7163398692810458\n",
      "Test Preditcions confusion matrix:\n",
      "[[1959  123]\n",
      " [  94  274]]\n"
     ]
    }
   ],
   "source": [
    "from feature_selection import Features\n",
    "from metrics import get_metrics\n",
    "import cv2\n",
    "from sklearn import svm\n",
    "import pandas as pd\n",
    "\n",
    "train_df = pd.read_csv('./data/train.csv')\n",
    "test_df = pd.read_csv('./data/test.csv')\n",
    "\n",
    "box_height, box_width, step = 200, 80, 40\n",
    "\n",
    "test = Features(test_df, './data/test', sliding_box_width=box_width, common_height=box_height, step_size=step, is_visualized=False)\n",
    "train = Features(train_df, './data/train', box_width, box_height, step, False)\n",
    "\n",
    "test_features, test_labels = test.make_features()\n",
    "train_features, train_labels = train.make_features()\n",
    "\n",
    "clf = svm.SVC()\n",
    "clf.fit(train_features, train_labels)\n",
    "\n",
    "train_predictions = clf.predict(train_features)\n",
    "get_metrics('Train Preditcions', train_labels, train_predictions)\n",
    "\n",
    "test_preditctions = clf.predict(test_features)\n",
    "get_metrics('Test Preditcions', test_labels, test_preditctions)\n",
    "\n",
    "test.save_result(test_preditctions,'./data/full_results')"
   ]
  },
  {
   "cell_type": "code",
   "execution_count": 2,
   "metadata": {},
   "outputs": [
    {
     "name": "stdout",
     "output_type": "stream",
     "text": [
      "\n",
      "Small Test prediction accuracy: 0.8947368421052632\n",
      "Small Test precision score: 0.5714285714285714\n",
      "Small Test recall score: 0.8571428571428571\n",
      "Small Test F1 score: 0.6857142857142857\n",
      "Small Test confusion matrix:\n",
      "[[163  18]\n",
      " [  4  24]]\n"
     ]
    }
   ],
   "source": [
    "small_test = Features(test_df, './data/small_test', box_width, box_height, step, is_visualized=True)\n",
    "\n",
    "small_test_features, small_test_labels = small_test.make_features()\n",
    "small_test_predictions = clf.predict(small_test_features)\n",
    "\n",
    "get_metrics('Small Test',small_test_labels, small_test_predictions)\n",
    "\n",
    "small_test.show_results(small_test_predictions, 300)\n",
    "small_test.save_result(small_test_predictions, './data/small_results')\n",
    "\n",
    "cv2.waitKey(0)\n",
    "cv2.destroyAllWindows()"
   ]
  }
 ],
 "metadata": {
  "kernelspec": {
   "display_name": "Python 3",
   "language": "python",
   "name": "python3"
  },
  "language_info": {
   "codemirror_mode": {
    "name": "ipython",
    "version": 3
   },
   "file_extension": ".py",
   "mimetype": "text/x-python",
   "name": "python",
   "nbconvert_exporter": "python",
   "pygments_lexer": "ipython3",
   "version": "3.11.5"
  }
 },
 "nbformat": 4,
 "nbformat_minor": 2
}
